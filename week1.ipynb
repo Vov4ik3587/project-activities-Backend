{
 "cells": [
  {
   "cell_type": "markdown",
   "metadata": {},
   "source": [
    "#Здесь будут лежать все задачи с курса Stepik \"Программирование на Python\" 1 раздел"
   ]
  },
  {
   "cell_type": "code",
   "execution_count": null,
   "metadata": {},
   "outputs": [
    {
     "name": "stdout",
     "output_type": "stream",
     "text": [
      "12345554321\n"
     ]
    }
   ],
   "source": [
    "# Задание 1\n",
    "print(11111 * 1111111)"
   ]
  },
  {
   "cell_type": "code",
   "execution_count": null,
   "metadata": {},
   "outputs": [],
   "source": [
    "# Задание 2\n",
    "print(42 / (4 + 2 * (-2)))"
   ]
  },
  {
   "cell_type": "code",
   "execution_count": 2,
   "metadata": {},
   "outputs": [
    {
     "name": "stdout",
     "output_type": "stream",
     "text": [
      "18064773765607550801425251468864907833685590016\n"
     ]
    }
   ],
   "source": [
    "# Lvl 3\n",
    "print(2014**14)"
   ]
  },
  {
   "cell_type": "code",
   "execution_count": 3,
   "metadata": {},
   "outputs": [
    {
     "name": "stdout",
     "output_type": "stream",
     "text": [
      "1.806477376560755e+46\n"
     ]
    }
   ],
   "source": [
    "# LVL 4\n",
    "print(2014.0**14)"
   ]
  },
  {
   "cell_type": "code",
   "execution_count": 4,
   "metadata": {},
   "outputs": [
    {
     "name": "stdout",
     "output_type": "stream",
     "text": [
      "2.3333333333333335\n"
     ]
    }
   ],
   "source": [
    "# LVL 5\n",
    "print(7 / 3)"
   ]
  },
  {
   "cell_type": "code",
   "execution_count": null,
   "metadata": {},
   "outputs": [],
   "source": [
    "# LVL 6\n",
    "print(7 // 3)"
   ]
  },
  {
   "cell_type": "code",
   "execution_count": 1,
   "metadata": {},
   "outputs": [
    {
     "name": "stdout",
     "output_type": "stream",
     "text": [
      "89\n"
     ]
    }
   ],
   "source": [
    "# LVL 7\n",
    "print(9**19 - int(float(9**19)))"
   ]
  },
  {
   "cell_type": "code",
   "execution_count": null,
   "metadata": {},
   "outputs": [],
   "source": [
    "# LVL 8\n",
    "need = int(input())\n",
    "begin_hours = int(input())\n",
    "begin_min = int(input())\n",
    "end_hours = (60 * begin_hours + begin_min + need) / 60\n",
    "end_min = (60 * begin_hours + begin_min + need) % 60\n",
    "print(end_hours)\n",
    "print(end_min)\n"
   ]
  },
  {
   "cell_type": "code",
   "execution_count": 1,
   "metadata": {},
   "outputs": [
    {
     "data": {
      "text/plain": [
       "True"
      ]
     },
     "execution_count": 1,
     "metadata": {},
     "output_type": "execute_result"
    }
   ],
   "source": [
    "# LVL 9\n",
    "x = 5\n",
    "y = 10\n",
    "y > x * x or y >= 2 * x and x < y\n"
   ]
  },
  {
   "cell_type": "code",
   "execution_count": 1,
   "metadata": {},
   "outputs": [
    {
     "data": {
      "text/plain": [
       "False"
      ]
     },
     "execution_count": 1,
     "metadata": {},
     "output_type": "execute_result"
    }
   ],
   "source": [
    "# LVL 10\n",
    "a = True\n",
    "b = False\n",
    "a and b or not a and not b\n"
   ]
  },
  {
   "cell_type": "code",
   "execution_count": null,
   "metadata": {},
   "outputs": [],
   "source": [
    "# LVL 11\n",
    "sleep_min = int(input())\n",
    "sleep_max = int(input())\n",
    "sleep = int(input())\n",
    "if sleep > sleep_max:\n",
    "    print(\"Пересып\")\n",
    "elif sleep < sleep_min:\n",
    "    print(\"Недосып\")\n",
    "else: \n",
    "    print(\"Это нормально\")\n"
   ]
  },
  {
   "cell_type": "code",
   "execution_count": 2,
   "metadata": {},
   "outputs": [
    {
     "name": "stdout",
     "output_type": "stream",
     "text": [
      "Обычный\n"
     ]
    }
   ],
   "source": [
    "year = int(input())\n",
    "if year % 4 == 0 and year % 100 != 0 or year % 400 == 0:\n",
    "    print(\"Високосный\")\n",
    "else:\n",
    "    print(\"Обычный\")"
   ]
  },
  {
   "cell_type": "markdown",
   "metadata": {},
   "source": [
    "Задачи по материалам недели 1"
   ]
  },
  {
   "cell_type": "code",
   "execution_count": 10,
   "metadata": {},
   "outputs": [
    {
     "name": "stdout",
     "output_type": "stream",
     "text": [
      "4.14578098794425\n"
     ]
    }
   ],
   "source": [
    "# Формула Герона\n",
    "import math\n",
    "\n",
    "a = int(input())\n",
    "b = int(input())\n",
    "c = int(input())\n",
    "\n",
    "p = (a + b + c) / 2\n",
    "\n",
    "S = math.sqrt(p * (p - a) * (p - b) * (p - c))\n",
    "print(S)"
   ]
  },
  {
   "cell_type": "code",
   "execution_count": 15,
   "metadata": {},
   "outputs": [
    {
     "name": "stdout",
     "output_type": "stream",
     "text": [
      "True\n"
     ]
    }
   ],
   "source": [
    "# Интервалы\n",
    "a = int(input())\n",
    "if (-15 < a <= 12 or \n",
    "    14 < a < 17 or \n",
    "    a >= 19):\n",
    "    print(\"True\")\n",
    "else: print(\"False\")"
   ]
  },
  {
   "cell_type": "code",
   "execution_count": 28,
   "metadata": {},
   "outputs": [
    {
     "name": "stdout",
     "output_type": "stream",
     "text": [
      "1.0\n"
     ]
    }
   ],
   "source": [
    "# Калькулятор\n",
    "num_1 = float(input())\n",
    "num_2 = float(input())\n",
    "operation = input()\n",
    "if (operation == '*'):\n",
    "    print(num_1 * num_2)\n",
    "elif (operation == '+'):\n",
    "    print(num_1 + num_2)\n",
    "elif (operation == '-'):\n",
    "    print(num_1 - num_2)\n",
    "elif operation == '/':\n",
    "    if num_2 != 0:\n",
    "        print(num_1 / num_2)\n",
    "    else: print(\"Деление на 0!\")\n",
    "elif operation == 'div':\n",
    "    if num_2 != 0:\n",
    "        print(num_1 // num_2)\n",
    "    else: print(\"Деление на 0!\")\n",
    "elif operation == 'mod':\n",
    "    if num_2 != 0:\n",
    "        print(num_1 % num_2)\n",
    "    else: print(\"Деление на 0!\")\n",
    "elif operation == 'pow':\n",
    "    print(num_1**num_2)"
   ]
  },
  {
   "cell_type": "code",
   "execution_count": 29,
   "metadata": {},
   "outputs": [
    {
     "name": "stdout",
     "output_type": "stream",
     "text": [
      "8\n"
     ]
    }
   ],
   "source": [
    "# Площади\n",
    "import math\n",
    "\n",
    "call = input()\n",
    "if call == \"треугольник\":\n",
    "    a = int(input())\n",
    "    b = int(input())\n",
    "    c = int(input())\n",
    "    p = (a + b + c) / 2\n",
    "    print(math.sqrt(p * (p - a) * (p - b) * (p - c)))\n",
    "elif call == \"прямоугольник\":\n",
    "    a = int(input())\n",
    "    b = int(input())\n",
    "    print(a * b)\n",
    "elif call == \"круг\":\n",
    "    r = int(input())\n",
    "    print(3.14 * (r ** 2))"
   ]
  },
  {
   "cell_type": "code",
   "execution_count": null,
   "metadata": {},
   "outputs": [],
   "source": [
    "# Вывод чисел\n",
    "a = int(input())\n",
    "b = int(input())\n",
    "c = int(input())\n"
   ]
  }
 ],
 "metadata": {
  "kernelspec": {
   "display_name": "Python 3",
   "language": "python",
   "name": "python3"
  },
  "language_info": {
   "codemirror_mode": {
    "name": "ipython",
    "version": 3
   },
   "file_extension": ".py",
   "mimetype": "text/x-python",
   "name": "python",
   "nbconvert_exporter": "python",
   "pygments_lexer": "ipython3",
   "version": "3.10.0"
  }
 },
 "nbformat": 4,
 "nbformat_minor": 0
}
