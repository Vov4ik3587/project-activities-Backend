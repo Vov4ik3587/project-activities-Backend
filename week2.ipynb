{
 "cells": [
  {
   "cell_type": "code",
   "execution_count": null,
   "metadata": {},
   "outputs": [],
   "source": [
    "c = int (input())\n",
    "s = 0\n",
    "while c != 0:\n",
    "    s = s + c\n",
    "    c = int (input())\n",
    "print (s)"
   ]
  },
  {
   "cell_type": "code",
   "execution_count": null,
   "metadata": {},
   "outputs": [],
   "source": [
    "a = int (input())\n",
    "b = int (input())\n",
    "s = 1\n",
    "k = 2\n",
    "while s<k:\n",
    "  if s % a == 0 and s % b == 0:\n",
    "    k=s\n",
    "  else:\n",
    "    s=s+1\n",
    "    k=k+1\n",
    "print(s)"
   ]
  },
  {
   "cell_type": "code",
   "execution_count": 3,
   "metadata": {},
   "outputs": [
    {
     "name": "stdout",
     "output_type": "stream",
     "text": [
      "10\n"
     ]
    }
   ],
   "source": [
    "i = 0\n",
    "s = 0\n",
    "while i < 10:\n",
    "    i = i + 1\n",
    "    s = s + i\n",
    "    if s > 15:\n",
    "        continue\n",
    "    i = i + 1\n",
    "print(i)"
   ]
  },
  {
   "cell_type": "code",
   "execution_count": null,
   "metadata": {},
   "outputs": [],
   "source": [
    "a = 0\n",
    "while a<=100:\n",
    "  a = int (input())\n",
    "  if a > 100:\n",
    "    break\n",
    "  if a<10:\n",
    "    continue\n",
    "  print(a)"
   ]
  },
  {
   "cell_type": "code",
   "execution_count": null,
   "metadata": {},
   "outputs": [],
   "source": [
    "a =int (input())\n",
    "b =int (input())\n",
    "c =int (input())\n",
    "d =int (input())\n",
    "for g in range (c,d+1):\n",
    "    print('\\t'+str(g),end='')\n",
    "print(end='\\n')\n",
    "for i in range (a,b+1):\n",
    "    print(str(i)+'\\t',end='')\n",
    "    for j in range (c,d+1):\n",
    "        print(str(i*j),end='\\t')\n",
    "    print(end='\\n')"
   ]
  },
  {
   "cell_type": "code",
   "execution_count": null,
   "metadata": {},
   "outputs": [],
   "source": [
    "a = int(input())\n",
    "b = int(input())\n",
    "s = 0\n",
    "c = 0\n",
    "for j in range (a,b+1):\n",
    "    if j % 3 == 0:\n",
    "        s = s + j #42\n",
    "        c = c + 1\n",
    "    j += 1\n",
    "print(s/c)"
   ]
  },
  {
   "cell_type": "code",
   "execution_count": null,
   "metadata": {},
   "outputs": [],
   "source": [
    "a =  input() # input auto use type str\n",
    "s1 = a.upper().count('c'.upper())\n",
    "s2 = a.upper().count('g'.upper())\n",
    "S=s1+s2\n",
    "print(S/len(a)*100)"
   ]
  },
  {
   "cell_type": "code",
   "execution_count": 2,
   "metadata": {},
   "outputs": [
    {
     "name": "stdout",
     "output_type": "stream",
     "text": [
      "kigec\n"
     ]
    }
   ],
   "source": [
    "s = 'abcdefghijk'\n",
    "print(s[-1:-10:-2])"
   ]
  },
  {
   "cell_type": "code",
   "execution_count": null,
   "metadata": {},
   "outputs": [],
   "source": [
    "s = str(input())\n",
    "l = len(s)-1\n",
    "c = 1\n",
    "t = ''\n",
    "if len(s)==1:\n",
    "    t = t +s+str(c)\n",
    "else:\n",
    "    for i in range(0,l):\n",
    "        if s[i]==s[i+1]:\n",
    "            c +=1\n",
    "        elif s[i]!=s[i+1]:\n",
    "            t = t + s[i]+str(c)\n",
    "            c = 1\n",
    "    for j in range(l,l+1):\n",
    "        if s[-1]==s[-2]:\n",
    "            t = t +s[j]+str(c)\n",
    "        elif s[-1]!=s[-2]:\n",
    "            t = t +s[j]+str(c)\n",
    "            c = 1\n",
    "print(t)"
   ]
  },
  {
   "cell_type": "code",
   "execution_count": null,
   "metadata": {},
   "outputs": [],
   "source": [
    "s=[int(input())]\n",
    "while sum(s)!=0: \n",
    "    s.append(int(input()))\n",
    "print(sum([i**2 for i in s]))"
   ]
  },
  {
   "cell_type": "code",
   "execution_count": 5,
   "metadata": {},
   "outputs": [
    {
     "name": "stdout",
     "output_type": "stream",
     "text": [
      "[1, 2, 3, 4]\n",
      "10\n"
     ]
    }
   ],
   "source": [
    "s = [ int(i) for i in input().split()]\n",
    "print(s)\n",
    "summ = 0 \n",
    "l = len(s)-1\n",
    "for i in range(0,l+1):\n",
    "    summ = summ + s[i]\n",
    "print(summ)"
   ]
  }
 ],
 "metadata": {
  "interpreter": {
   "hash": "bab3209d9535eea0a7921bb5a469a06742f6d518669af29f00ba7e55321f3188"
  },
  "kernelspec": {
   "display_name": "Python 3.10.0 64-bit",
   "language": "python",
   "name": "python3"
  },
  "language_info": {
   "codemirror_mode": {
    "name": "ipython",
    "version": 3
   },
   "file_extension": ".py",
   "mimetype": "text/x-python",
   "name": "python",
   "nbconvert_exporter": "python",
   "pygments_lexer": "ipython3",
   "version": "3.10.0"
  },
  "orig_nbformat": 4
 },
 "nbformat": 4,
 "nbformat_minor": 2
}
